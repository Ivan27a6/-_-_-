{
 "cells": [
  {
   "cell_type": "markdown",
   "metadata": {},
   "source": [
    "### Введение\n",
    "С развитием LLM-моделей спрашивать теоретическую часть или короткие алгоритмы и принципы стало бесполезно, поэтому задание будет одно, но комплексное и приближенное к реальности.\n",
    "\n",
    "Вы можете использовать любые LLM-модели и Copilot для написания кода, так как в реальной работе сотрудники отдела также имеют доступ ко всем современным инструментам (Sonnet 3.5, GPT-4o, GitHub Copilot и т. п.).\n",
    "\n",
    "В задании вы будете работать с тестовыми данными по банкоматам и API ЦБ РФ для получения ключевой ставки.\n",
    "\n",
    "---\n",
    "\n",
    "### Специфика данных fees\n",
    "`fees` — тарифы за обслуживание банкомата инкассаторами. Так как банкоматы могут находиться в разных регионах, тарифы у них могут отличаться.\n",
    "\n",
    "- **CashDeliveryFixedFee** — фиксированная стоимость доставки наличных (не зависит от суммы).\n",
    "- **CashDeliveryPercentageFee** — процент от суммы доставленных наличных. Он добавляется к фиксированной стоимости. Если в таблице указано `0.0001`, это значит 0.01% от суммы.\n",
    "- **CashDeliveryMinFee** — минимальная сумма, которую с нас возьмут по `CashDeliveryPercentageFee`. Например, если мы попросим инкассаторов в ATM_4 довезти всего 10 000 рублей, то с нас возьмут 5250 рублей (фиксированная стоимость), а так как `10 000 * 0.04% < 450 рублей`, то дополнительно возьмут ещё 450 рублей. Итог: 5250 + 450 рублей.\n",
    "\n",
    "**CashCollection** — это пример сложного тарифа, который учитывает специфику работы с банкоматом. В банкомат деньги не докладывают, а меняют сразу кассету. Есть провайдеры, которые тарифицируют не только доставку, но и пересчёт денег в извлечённой кассете. Например, в ATM_4 у нас именно такой тариф.  \n",
    "Пример: у нас в банкомате осталось 500 тыс. рублей, а мы хотим, чтобы у него был баланс 2 млн. Тогда мы заказываем довезти кассету на 2 млн. и платим по тарифу за доставку. При доставке старая кассета извлекается, и мы также по тарифу платим за пересчёт 500 тыс. рублей (0.45%, но не менее 1140 рублей).\n",
    "\n",
    "- **CashCollectionFixedFee** — фиксированная стоимость за извлечение старой кассеты (в данных примерах нулевая).\n",
    "- **CashCollectionPercentageFee** — процент от суммы извлечённой кассеты.\n",
    "- **CashCollectionMinFee** — минимальная сумма, которую с нас возьмут по `CashCollectionPercentageFee`.\n",
    "\n",
    "---\n",
    "\n",
    "### Специфика данных transactions\n",
    "Таблица содержит данные по снятиям, пополнениям (инкассациям) и балансу банкомата на конец дня.  \n",
    "Считаем, что банкоматы в начале года пустые и не работали, поэтому баланс на конец дня равен 0, пока не случится первая инкассация.\n",
    "\n",
    "- **bal_end_of_day** — баланс на конец дня.\n",
    "- **cash_in** — пополнение в результате инкассации.\n",
    "- **cash_out** — снятие наличных клиентами.\n",
    "\n",
    "---"
   ]
  },
  {
   "cell_type": "code",
   "execution_count": 9,
   "metadata": {},
   "outputs": [],
   "source": [
    "import pandas as pd\n",
    "\n",
    "# Забираем данные по тарфиам на обслуживание банкоматов\n",
    "fees = pd.read_parquet('https://storage.yandexcloud.net/norvpublic/fees.parquet')\n",
    "# статистика операция по дням.\n",
    "transactions = pd.read_parquet('https://storage.yandexcloud.net/norvpublic/transactions.parquet')\n",
    "\n",
    "pd.options.display.max_columns = None\n",
    "\n",
    "print(\"\\nfees:\\n\", fees, \"\\n\\n\")\n",
    "print(\"transactions:\\n\", transactions, \"\\n\")"
   ]
  },
  {
   "cell_type": "markdown",
   "metadata": {},
   "source": [
    "### Часть 1 — упущенный процентный доход\n",
    "\n",
    "Специалисту по ML важно уметь получать данные с различных API и читать документацию. Для расчёта упущенного процентного дохода нужно обратиться к API ЦБ РФ и получить динамику ключевой ставки за 2024 год.\n",
    "\n",
    "https://www.cbr.ru/DailyInfoWebServ/DailyInfo.asmx?op=KeyRate\n",
    "\n",
    "Для запроса к API не нужен токен и регистрация. ЦБ РФ для части данных предпочитает использовать SOAP.\n",
    "\n",
    "Учитывая, что хранить наличные деньги в банкомате — не самое удачное инвестиционное решение, посчитайте упущенный процентный доход для каждого банкомата. Рассчитываем, что банк мог бы вложить эти деньги и получить доход, равный ключевой ставке ЦБ РФ, актуальной на день баланса банкомата. Добавьте к таблице `transactions` столбец с упущенной процентной выгодой.\n"
   ]
  },
  {
   "cell_type": "code",
   "execution_count": null,
   "metadata": {},
   "outputs": [],
   "source": [
    "import requests\n",
    "import xml.etree.ElementTree as ET\n",
    "\n",
    "def get_rate(date):\n",
    "\n",
    "    url = \"https://www.cbr.ru/DailyInfoWebServ/DailyInfo.asmx\"\n",
    "\n",
    "    SOAPEnvelope = f\"\"\"\n",
    "    <soap:Envelope xmlns:xsi=\"http://www.w3.org/2001/XMLSchema-instance\" xmlns:xsd=\"http://www.w3.org/2001/XMLSchema\" xmlns:soap=\"http://schemas.xmlsoap.org/soap/envelope/\">\n",
    "    <soap:Body>\n",
    "        <KeyRate xmlns=\"http://web.cbr.ru/\">\n",
    "        <fromDate>{date}</fromDate>\n",
    "        <ToDate>{date}</ToDate>\n",
    "        </KeyRate>\n",
    "    </soap:Body>\n",
    "    </soap:Envelope>\"\"\"\n",
    "\n",
    "    options = {\"Content-Type\": \"text/xml; charset=utf-8\"}\n",
    "\n",
    "    response = requests.post(url, data=SOAPEnvelope, headers=options)\n",
    "    root = ET.fromstring(response.text)\n",
    "\n",
    "    for i in root.iter(\"Rate\"):\n",
    "        return float(i.text)\n",
    "\n",
    "transactions[\"date\"] = transactions[\"date\"].dt.date\n",
    "\n",
    "transactions = transactions.assign(Rate=transactions[\"date\"].apply(get_rate))\n",
    "\n",
    "print(transactions)"
   ]
  },
  {
   "cell_type": "markdown",
   "metadata": {},
   "source": [
    "### Часть 2 - расходы на инкассацию\n",
    "\n",
    "Теперь к данным по банкоматам, кроме упущенного процентного дохода, необходимо добавить столбец расходов на инкассацию. Для простоты считаем, что мы не платим за аренду помещения и страхование, поэтому нам достаточно данных по тарифам на инкассацию (`fees`)."
   ]
  },
  {
   "cell_type": "code",
   "execution_count": null,
   "metadata": {},
   "outputs": [],
   "source": [
    "transactions = (transactions.set_index(\"ATM_ID\").join(fees.set_index(\"ATM_ID\")).iloc[0:, :6])\n",
    "\n",
    "transactions = transactions.assign(result=transactions['bal_end_of_day'] >= transactions['cash_out'])"
   ]
  },
  {
   "cell_type": "markdown",
   "metadata": {},
   "source": [
    "### Часть 3 - анализ данных\n",
    "\n",
    "Посмотрите на данные о снятиях, инкассациях и балансе. В данных подобраны банкоматы, отличающиеся по характеру использования и частоте инкассаций.  \n",
    "(Эту операцию вы делаете для себя, чтобы лучше понять специфику.)"
   ]
  },
  {
   "cell_type": "code",
   "execution_count": null,
   "metadata": {},
   "outputs": [],
   "source": [
    "multi_agg = {\n",
    "    'bal_end_of_day': ['mean', 'median', 'sum'],\n",
    "    'cash_in': ['mean', 'sum', 'max'],\n",
    "    'cash_out': ['mean', 'sum', 'max'],\n",
    "    'Rate': ['median']\n",
    "}\n",
    "\n",
    "print(transactions.groupby(pd.Grouper(key='date', freq='M')).agg(multi_agg).round(1))\n",
    "\n",
    "print(transactions.groupby('ATM_ID').agg(multi_agg).round(1))"
   ]
  },
  {
   "cell_type": "markdown",
   "metadata": {},
   "source": [
    "### Часть 4 - меняем бизнес с помощью ML\n",
    "\n",
    "Заключительная и самая интересная часть. К данному этапу у нас уже рассчитан упущенный процентный доход и расходы на инкассацию. Подумайте, как использовать ваши знания, чтобы оптимизировать процесс инкассации и уменьшить издержки.\n",
    "\n",
    "Для данной задачи считаем, что нас устроит Service Level на уровне 90%. Это значит, что если в 9 из 10 случаев наши клиенты получают нужные им суммы, нас это устраивает.\n",
    "\n",
    "Напоминаем, что технически в банкомат нельзя довнести сумму, и кассета меняется полностью. Соответственно, с нас берут оплату за полную кассету (если вдруг решите подойти к задаче через классическую формулу EOQ).\n",
    "\n",
    "Вы можете подойти к задаче абсолютно любым способом и использовать все возможности ООП, Python и любых библиотек. Всё как в реальной работе, где вас никто не ограничивает.\n",
    "\n",
    "Эффективность своего решения вы можете показать с помощью ретротестирования. Считаем, что каждая кассета может вмещать абсолютно любые суммы. Чтобы добавить реализма, вы можете считать, что деньги нужно заказывать за 3 дня до их доставки.\n",
    "\n",
    "\n",
    "Представьте, что итог вашей работы состоит из 2 частей:\n",
    "1) Вы презентуете своё решение руководителям банка. В этой части вы показываете, как ваше решение экономит деньги. Вы можете показать сценарий с Service Level 90% как базовый и сравнить, сколько мы сэкономим денег, если снизим его до 80% или увеличим до 95%.\n",
    "2) Вы презентуете свою систему для исполнителей, а им нужно понимать за 3 дня до доставки кассеты, какую сумму заказывать, какой баланс у банкомата в какие даты должен быть. Возможно, решите ещё что-то им предоставить из данных, чтобы исполнители эффективно реализовали вашу задумку.\n"
   ]
  },
  {
   "cell_type": "code",
   "execution_count": null,
   "metadata": {},
   "outputs": [],
   "source": [
    "transactions = transactions.assign(result=transactions['bal_end_of_day'] >= transactions['cash_out'])\n",
    "\n",
    "print(round(transactions['result'].sum()/len(transactions),2))\n",
    "\n",
    "# В данный момент общий Service Level = 99%\n",
    "\n",
    "transactions = transactions.loc[((transactions['bal_end_of_day'] > 0))]\n",
    "\n",
    "transactions.to_excel('transactions.xlsx')\n",
    "\n",
    "# Выберем значения с ненулевым балансом и сохраним в файл\n",
    "\n",
    "transactions = pd.read_excel('transactions.xlsx')\n",
    "\n",
    "for i in range(4):\n",
    "    transactions.loc[((transactions['ATM_ID'] == f'ATM_{i+1}'))].to_excel(f'ATM_{i+1}.xlsx', index=False)\n",
    "    \n",
    "# Сохраним значения по каждому терминалу в отдельный файл, поскольку сранивать их разумнее отдельно\n",
    "\n",
    "ATM_1 = pd.read_excel('ATM_1.xlsx')\n",
    "print(round(ATM_1['result'].sum()/len(ATM_1),2))\n",
    "\n",
    "ATM_2 = pd.read_excel('ATM_2.xlsx')\n",
    "print(round(ATM_2['result'].sum()/len(ATM_2),2))\n",
    "\n",
    "ATM_3 = pd.read_excel('ATM_3.xlsx')\n",
    "print(round(ATM_3['result'].sum()/len(ATM_3),2))\n",
    "\n",
    "ATM_4 = pd.read_excel('ATM_4.xlsx')\n",
    "print(round(ATM_4['result'].sum()/len(ATM_4),2))\n",
    "\n",
    "# В данный момент частные показатели Service Level: 99%, 97%, 100%, 100%\n",
    "\n",
    "# Изчуив данные, мне кажется, задача заключается в поиске минимума разницы между комиссией службе доставки и процентов от лежащей в терминале доставленной суммы\n",
    "\n",
    "# Мои вычисления по каждому терминалу см в файле ATM_N.\n",
    "\n",
    "# Сравнение с разными сценарими Servise Level на листе \"Сравнение\" в файле ATM_N.\n"
   ]
  },
  {
   "cell_type": "markdown",
   "metadata": {},
   "source": [
    "### Заключение\n",
    "\n",
    "Решение вы можете предоставить любым способом: репозиторий GitHub, Google Colab, конвертированный IPython Notebook в PDF и т. п.\n",
    "\n",
    "По срокам вас не ограничивают, но учитывайте, что в это же время задачу могут решать и другие кандидаты. Таким образом, вы участвуете в конкурсе с ними."
   ]
  }
 ],
 "metadata": {
  "kernelspec": {
   "display_name": ".venvwin",
   "language": "python",
   "name": "python3"
  },
  "language_info": {
   "codemirror_mode": {
    "name": "ipython",
    "version": 3
   },
   "file_extension": ".py",
   "mimetype": "text/x-python",
   "name": "python",
   "nbconvert_exporter": "python",
   "pygments_lexer": "ipython3",
   "version": "3.11.7"
  }
 },
 "nbformat": 4,
 "nbformat_minor": 2
}
